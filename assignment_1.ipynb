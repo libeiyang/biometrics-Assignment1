{
 "cells": [
  {
   "cell_type": "markdown",
   "metadata": {},
   "source": [
    "![title](img/logo.png)\n",
    "# Biometrics System Concepts\n",
    "## Assignment 1: Evaluating performance of biometric systems\n",
    "<b>Name</b>: Marty McFly |\n",
    "<b>Student-nr</b>: C25 |\n",
    "<b>Date</b>: June 12, 2015\n",
    "---\n",
    "\n",
    "In this assignment we focus on evaluating the performance of any biometric system in a verification and identification setting. \n",
    "\n",
    "Before you get started you should be able to properly distinguish verification from identification and know the corresponding validation procedures. If this is not the case for you yet, **review the lecture notes!** We will give a short recap to refresh your memory: \n",
    "* **VERIFICATION** (a.k.a. authentication): Authenticating a claimed identity (is this person who he/she claims to be?).\n",
    "\n",
    "* **IDENTIFICATION**: Associate a particular individual with an identity (who is this unidentified individual?).\n",
    "\n",
    "This document is structured as follows:\n",
    "\n",
    "- [I. Reading the data](#I.-Reading-the-data)\n",
    "- [II. Validation of verification system](#II.-Validation-of-verification-system)\n",
    "- [III. Validation of identification system](#III.-Validation-of-identification-system)\n",
    "- [IV. Assignment Instructions](#IV.-Assignment-Instructions)\n",
    "\n",
    "\n",
    "Code examples will be provided below. You can and are invited to adapt these at your will (different parameter settings, different choices of alogorithmic components). The code examples in this assignment is just sekeleton code,  **adapt where needed! And try to keep things structured!** "
   ]
  },
  {
   "cell_type": "code",
   "execution_count": 1,
   "metadata": {},
   "outputs": [],
   "source": [
    "# import the required python packages\n",
    "\n",
    "import numpy as np\n",
    "import matplotlib.pyplot as plt\n",
    "# the following meta-command is required to get plots displayed in notebooks\n",
    "%matplotlib inline\n",
    "\n",
    "# package for reading xml files\n",
    "import xml.etree.ElementTree as ET\n",
    "\n",
    "import os\n",
    "# package for data analysis with fast and flexible data structures\n",
    "import pandas as pd\n",
    "\n",
    "# package to show a nice graphical progress-bar for lengthy calculations\n",
    "# docu and installation on https://tqdm.github.io\n",
    "# if you have difficulties installing this package: \n",
    "# - make sure your jupyter lab is up to date\n",
    "# - https://github.com/tqdm/tqdm/issues/394#issuecomment-384743637\n",
    "# - consider just leaving it out (just remove the 'tqdm_notebook' in the code)\n",
    "from tqdm.notebook import tqdm as tqdm_notebook\n",
    "\n",
    "# import local modules for reading and converting BSSR1 fingerprint score data\n",
    "import src.BSSR1 as BSSR1"
   ]
  },
  {
   "cell_type": "markdown",
   "metadata": {},
   "source": [
    "<div class=\"alert alert-block alert-info\">\n",
    "<b>Tip:</b> \n",
    "Many operations have already been implemented in <a href=\"https://docs.scipy.org/doc/numpy/index.html\">SciPy</a>, feel free to use them or any other unless explicitely stated not to in the assignment.</div>"
   ]
  },
  {
   "cell_type": "markdown",
   "metadata": {},
   "source": [
    "## I. Reading the data\n",
    "In this assignment we focus on the validation of a pre-exising biometric system. We will make use of actual predicted fingerprint similarity scores, from the left and right index fingers. This bypasses all steps of preprocessing, feature extraction and matching and allows us to concentrate on the score evaluation procedures. The scores are the result of comparing an enrolled user's image with the score of the same (genuine scores) or another user (impostor scores). The data (biometrics scores set BSSR1) are made available through the American National Institute of Standards and Technologies [(NIST)](https://www.nist.gov/itl/iad/image-group/nist-biometric-scores-set-bssr1). They are provided as part of your assignment folder in the `data/fing-x-fing` subfolder. \n",
    "\n",
    "In this code example we will compare the performance of a biometric system that was based on the right index finger to a biometric system based on the left index finger. These systems are referred to as `ri` and `li` respectively in both code and text.  "
   ]
  },
  {
   "cell_type": "markdown",
   "metadata": {},
   "source": [
    "### 1.1. Constructing the similarity matrix and reading the genuine and impostor scores\n",
    "We provide you here with the code to read the scores from the files (normally you can leave this code as-is).\n",
    "\n",
    "The code consits of 3 steps that are executed for both the `ri` and `li` system: \n",
    "1. Converted the scores to a similarity matrix with the genuine scores on the diagonal and the impostor scores on the off-diagonal elements. \n",
    "2. Subsample individuals (not needed but reduces calculation times). \n",
    "3. Convert the original (subsampled) scores to a linear list of scores with associated labels of genuine or impostor (simplifies use of [scikit-learn](https://scikit-learn.org/stable/index.html))\n",
    "\n",
    "<div class=\"alert alert-block alert-info\">\n",
    "<b>Tip:</b> \n",
    "For more information about the structure of the data, have a look at the <a href=\"./data/fing_x_fing/README.html\">readme</a>.\n",
    "</div>\n"
   ]
  },
  {
   "cell_type": "code",
   "execution_count": 2,
   "metadata": {},
   "outputs": [],
   "source": [
    "## provide links to the relevant files (you might want to edit these)\n",
    "\n",
    "# set paths to files containing identity tags of enrollees and users\n",
    "li_enrollees_id_filepath = './data/fing_x_fing/sets/dos/li/enrollees.xml'\n",
    "li_users_id_filepath = './data/fing_x_fing/sets/dos/li/users.xml'\n",
    "\n",
    "ri_enrollees_id_filepath = './data/fing_x_fing/sets/dos/ri/enrollees.xml'\n",
    "ri_users_id_filepath = './data/fing_x_fing/sets/dos/ri/users.xml'\n",
    "\n",
    "# set list string for scores files\n",
    "li_scores_list_str = './data/fing_x_fing/sims/dos/li/V/*.bin'\n",
    "ri_scores_list_str = './data/fing_x_fing/sims/dos/ri/V/*.bin'"
   ]
  },
  {
   "cell_type": "code",
   "execution_count": 3,
   "metadata": {},
   "outputs": [
    {
     "data": {
      "text/plain": "  0%|          | 0/6000 [00:00<?, ?it/s]",
      "application/vnd.jupyter.widget-view+json": {
       "version_major": 2,
       "version_minor": 0,
       "model_id": "b32fd44f075a4123af4e6933b0eb12cb"
      }
     },
     "metadata": {},
     "output_type": "display_data"
    },
    {
     "data": {
      "text/plain": "  0%|          | 0/6000 [00:00<?, ?it/s]",
      "application/vnd.jupyter.widget-view+json": {
       "version_major": 2,
       "version_minor": 0,
       "model_id": "438ddd969d7c47aaa89bfd826ad1d225"
      }
     },
     "metadata": {},
     "output_type": "display_data"
    }
   ],
   "source": [
    "# STEP 1: read BSSR1 scores as a similarity matrix (this might take a while)\n",
    "(li_fingxfing_dataframe, li_enrollees, li_users, li_column_names) = BSSR1.read_BSSR1_scores_from_file(li_enrollees_id_filepath, li_users_id_filepath, li_scores_list_str)\n",
    "(ri_fingxfing_dataframe, ri_enrollees, ri_users, ri_column_names) = BSSR1.read_BSSR1_scores_from_file(ri_enrollees_id_filepath, ri_users_id_filepath, ri_scores_list_str)"
   ]
  },
  {
   "cell_type": "code",
   "execution_count": 4,
   "metadata": {},
   "outputs": [],
   "source": [
    "# STEP 2: subsample the scores to a manageable number of individuals\n",
    "li_similarity_matrix = BSSR1.df2sim_subsample(li_fingxfing_dataframe, column_names = li_column_names, nr_individuals = 1000)\n",
    "ri_similarity_matrix = BSSR1.df2sim_subsample(ri_fingxfing_dataframe, column_names = ri_column_names, nr_individuals = 1000)"
   ]
  },
  {
   "cell_type": "code",
   "execution_count": 5,
   "metadata": {},
   "outputs": [],
   "source": [
    "# STEP 3: convert to genuine and impostor scores, the *_genuine_id provides a mask for the genuine scores\n",
    "li_genuine_id, li_scores = BSSR1.sim2scores(li_similarity_matrix)\n",
    "ri_genuine_id, ri_scores = BSSR1.sim2scores(ri_similarity_matrix)"
   ]
  },
  {
   "cell_type": "markdown",
   "metadata": {},
   "source": [
    "<div class=\"alert alert-block alert-info\">\n",
    "<b>Tip:</b> \n",
    "In this assignment we focus only on evaluating biometric systems. It is in your best interest to write your code such that it can easily be reused in the upcoming assignments, where you will have to develop entire biometric system pipelines.</div>"
   ]
  },
  {
   "cell_type": "markdown",
   "metadata": {},
   "source": [
    "Validation of verification system## II. Validation of verification system\n",
    "\n",
    "[1]: <https://link.springer.com/book/10.1007/978-0-387-77326-1> ('Introduction to Biometrics' by AK Jain et al)\n",
    "[2]: <https://machinelearningmastery.com/roc-curves-and-precision-recall-curves-for-classification-in-python/> (How and When to Use ROC Curves and Precision-Recall Curves for Classification in Python)\n",
    "\n",
    "The performance of a valitation/authentication scenario can be expressed in a number of ways (see [Jain et al.][1] section 1.4.1.1 for more information). In essence one has a binary classification problem: is it the claimed identity or not? \n",
    "\n",
    "We denote our classes as:\n",
    "<ol start=\"0\">\n",
    "  <li>Impostor (False),</li>\n",
    "  <li>Genuine (True).</li>\n",
    "</ol>\n",
    "\n",
    "Furthermore, we represent the set of scores as s, the imposter event as $I$ and a genuine event as $G$."
   ]
  },
  {
   "cell_type": "markdown",
   "metadata": {},
   "source": [
    "### 1. Evaluation using FMR, FRR, ROC and Precision/Recall curves\n",
    "\n",
    "[1]: <https://link.springer.com/book/10.1007/978-0-387-77326-1> ('Introduction to Biometrics' by AK Jain et al)\n",
    "[2]: <https://machinelearningmastery.com/roc-curves-and-precision-recall-curves-for-classification-in-python/> (How and When to Use ROC Curves and Precision-Recall Curves for Classification in Python)\n",
    "\n",
    "\n",
    "\n",
    "#### 1.1 Genuine and impostor score distributions\n",
    "Given the genuine and impostor scores (from section I), we can plot the imposter $p(s | I)$ and genuine $p(s | G)$ distribution to gain some first insights in the system. The result should look something like this:\n",
    "\n",
    "<p align=\"center\">\n",
    "    <img src=\"img/ScoreDistributions.png\" width=\"250\" height=\"auto\"/>\n",
    "</p>\n"
   ]
  },
  {
   "cell_type": "markdown",
   "metadata": {},
   "source": [
    "<div class=\"alert alert-block alert-success\">\n",
    "<b>Q1: </b> Score distributions\n",
    "<ul>\n",
    "  <li>Plot the genuine and impostor score distributions in a single plot.</li>\n",
    "  <li>Do you need to normalize the distributions? Why (not)?</li>\n",
    "  <li>Describe qualitatively this combined plot (hint: limit the score range for better understanding)</li>\n",
    "</ul>  \n",
    "</div>"
   ]
  },
  {
   "cell_type": "code",
   "execution_count": 6,
   "metadata": {},
   "outputs": [
    {
     "data": {
      "text/plain": "<Figure size 432x288 with 1 Axes>",
      "image/png": "[encoded data removed]"
     },
     "metadata": {
      "needs_background": "light"
     },
     "output_type": "display_data"
    }
   ],
   "source": [
    "\"\"\"Plot the genuine and imposter score distributions.\"\"\"\n",
    "#left hand part\n",
    "li_np_similarity_matrix = li_similarity_matrix.values\n",
    "li_number_of_genuine = np.diag(li_np_similarity_matrix).shape[0] #number of genuine\n",
    "li_genuine_scores = li_scores[0:li_number_of_genuine]#scores is between 0 and 1\n",
    "li_imposter_scores = li_scores[li_number_of_genuine+1:]\n",
    "\n",
    "bins = np.linspace(0, 1, 100)\n",
    "plt.hist(li_genuine_scores,bins,density=1, label='genuine',alpha = 0.5, color='blue')\n",
    "plt.hist(li_imposter_scores,bins,density=1, label='imposter',alpha = 0.5,color='red')\n",
    "plt.show()"
   ]
  },
  {
   "cell_type": "code",
   "execution_count": 7,
   "metadata": {
    "collapsed": false,
    "jupyter": {
     "outputs_hidden": false
    },
    "pycharm": {
     "name": "#%%\n"
    }
   },
   "outputs": [
    {
     "data": {
      "text/plain": "<Figure size 432x288 with 1 Axes>",
      "image/png": "[encoded data removed]"
     },
     "metadata": {
      "needs_background": "light"
     },
     "output_type": "display_data"
    }
   ],
   "source": [
    "\"\"\"Plot the genuine and imposter score distributions.\"\"\"\n",
    "#right hand part\n",
    "ri_np_similarity_matrix = ri_similarity_matrix.values\n",
    "ri_number_of_genuine = np.diag(ri_np_similarity_matrix).shape[0] #number of genuine\n",
    "ri_genuine_scores = ri_scores[0:ri_number_of_genuine]\n",
    "ri_imposter_scores = ri_scores[ri_number_of_genuine+1:]\n",
    "\n",
    "bins = np.linspace(0, 1, 100)\n",
    "plt.hist(ri_genuine_scores,bins,density=1, label='genuine',alpha = 0.5, color='blue')\n",
    "plt.hist(ri_imposter_scores,bins,density=1, label='imposter',alpha = 0.5,color='red')\n",
    "plt.show()"
   ]
  },
  {
   "cell_type": "code",
   "execution_count": 72,
   "metadata": {
    "collapsed": false,
    "jupyter": {
     "outputs_hidden": false
    },
    "pycharm": {
     "name": "#%%\n"
    }
   },
   "outputs": [
    {
     "data": {
      "image/png": "[encoded data removed]",
      "text/plain": [
       "<Figure size 432x288 with 1 Axes>"
      ]
     },
     "metadata": {
      "needs_background": "light"
     },
     "output_type": "display_data"
    }
   ],
   "source": [
    "\"\"\"Plot the genuine and imposter score distributions.\"\"\"\n",
    "#maybe together?\n",
    "# genuine_scores = np.append(ri_genuine_scores, li_genuine_scores)\n",
    "# imposter_scores =  np.append(ri_imposter_scores, li_imposter_scores)\n",
    "# bins = np.linspace(0, 1, 100)\n",
    "# plt.hist(genuine_scores,bins,density=1, label='genuine',alpha = 0.5, color='blue')\n",
    "# plt.hist(imposter_scores,bins,density=1, label='imposter',alpha = 0.5,color='red')\n",
    "# plt.legend()\n",
    "# plt.show()\n"
   ]
  },
  {
   "cell_type": "markdown",
   "metadata": {},
   "source": [
    "# 2. FMR, FRR and Receiver Operating Characteristic (ROC) curve\n",
    "\n",
    "The 'false accept' and 'false reject' regions in the illustration above are quantified using the False Match/Acceptance Rates (FMR/FAR) and False Non-Match/Rejections Rates (FNMR/FRR). The FMR and FNMR can easily be computed given the previously calculated probability distributions and a threshold value $\\eta$. Practically this boils down to a counting problem, having $\\mathcal{I}$ the indicator function (return 1 if x is true, else 0) we can compute:\n",
    "$$\n",
    "FMR(\\eta) = p(s \\geq \\eta | I) \\approx \\frac{1}{|I|} \\sum_{s \\in I} \\mathcal{I}(s \\geq \\eta),\n",
    "$$\n",
    "$$\n",
    "FRR(\\eta) = p(s < \\eta | G) \\approx \\frac{1}{|G|} \\sum_{s \\in G} \\mathcal{I}(s < \\eta).\n",
    "$$\n",
    "\n",
    "We can also compute the Genuine Acceptance Rate (GAR)/True Match Rate (TMR) as:\n",
    "$$\n",
    "GAR(\\eta) = p(s \\geq \\eta | G) = 1 - FRR(\\eta).\n",
    "$$\n",
    "\n",
    "Note that choosing a threshold is always a tradeof between FMR and FNMR. <br>\n",
    "<img src=\"img/FAR_FRR.png\" width=\"300\" height=\"auto\" align=\"center\"/>\n",
    "\n",
    "To observe the impact of the threshold value, one often plots a [Receiver Operating Characteristic (ROC)](https://en.wikipedia.org/wiki/Receiver_operating_characteristic) curve. Usually in these curves the GAR/TMR is plotted against the FMR for different decision threshold values $\\eta$. For those familiar with binary classification systems outside of the biometrics literature; the GAR/TMR is often referred to as the True Positive Rate (TPR), sensitivity or recall and FMR is also known as the False Positive Rate (FPR) or the False Accept Rate (FAR). \n",
    "\n",
    "<img src=\"img/ROC.png\" width=\"700\" height=\"auto\" align=\"center\"/>"
   ]
  },
  {
   "cell_type": "markdown",
   "metadata": {},
   "source": [
    "<div class=\"alert alert-block alert-success\">\n",
    "<b>Q2: </b> ROC Curves\n",
    "<ul>\n",
    "    <li>Calculate FPR, TPR from the matching scores.</li>\n",
    "    <li>Plot FAR and FRR as a function of matching scores.</li>\n",
    "    <li>Plot the ROC curve. Plot for linear and logarithmic scale if needed. What do you observe?</li>\n",
    "    <li>Plot the Detection Error Trade-off (DET) curve. How does it compare to ROC?</li>\n",
    "</ul>  \n",
    "</div>\n",
    "\n",
    "\n",
    "<div class=\"alert alert-block alert-info\">\n",
    "<b>Tip:</b> \n",
    "We highly recommend you use the <a href=\"https://scikit-learn.org/stable/index.html\">scikit-learn</a> package, it contains standard and advanced routines for machine learning, including classificaton and validation algorithms.\n",
    "</div>"
   ]
  },
  {
   "cell_type": "code",
   "execution_count": 35,
   "metadata": {},
   "outputs": [
    {
     "data": {
      "text/plain": "[0.9942242184426611,\n 0.9942242184426611,\n 0.6380526907434342,\n 0.2307209516726243,\n 0.07744151896047945,\n 0.027402429832262095,\n 0.00993794788583372,\n 0.003638642280923204,\n 0.0018378396775171947,\n 0.0006626633259893153,\n 0.0002592595187782971,\n 8.808817626444071e-05,\n 2.6026052078130207e-05,\n 1.3013026039065104e-05,\n 4.004008012020032e-06,\n 1.001002003005008e-06,\n 1.001002003005008e-06,\n 0.0,\n 0.0,\n 0.0,\n 0.0,\n 0.0,\n 0.0,\n 0.0,\n 0.0,\n 0.0,\n 0.0,\n 0.0,\n 0.0,\n 0.0,\n 0.0,\n 0.0,\n 0.0,\n 0.0,\n 0.0,\n 0.0,\n 0.0,\n 0.0,\n 0.0,\n 0.0,\n 0.0,\n 0.0,\n 0.0,\n 0.0,\n 0.0,\n 0.0,\n 0.0,\n 0.0,\n 0.0,\n 0.0,\n 0.0,\n 0.0,\n 0.0,\n 0.0,\n 0.0,\n 0.0,\n 0.0,\n 0.0,\n 0.0,\n 0.0,\n 0.0,\n 0.0,\n 0.0,\n 0.0,\n 0.0,\n 0.0,\n 0.0,\n 0.0,\n 0.0,\n 0.0,\n 0.0,\n 0.0,\n 0.0,\n 0.0,\n 0.0,\n 0.0,\n 0.0,\n 0.0,\n 0.0,\n 0.0,\n 0.0,\n 0.0,\n 0.0,\n 0.0,\n 0.0,\n 0.0,\n 0.0,\n 0.0,\n 0.0,\n 0.0,\n 0.0,\n 0.0,\n 0.0,\n 0.0,\n 0.0,\n 0.0,\n 0.0,\n 0.0,\n 0.0,\n 0.0,\n 0.0]"
     },
     "execution_count": 35,
     "metadata": {},
     "output_type": "execute_result"
    }
   ],
   "source": [
    "\"\"\"Calculate FPR, TPR from the matching scores.\"\"\"\n",
    "#left hand\n",
    "threshold=np.linspace(0,1,101)\n",
    "\n",
    "FPR = []\n",
    "TPR = []\n",
    "for i in range(0, 101):\n",
    "    FP = len(ri_imposter_scores[(ri_imposter_scores>threshold[i])])\n",
    "    TN = len(ri_imposter_scores)-FP\n",
    "    TP = len(ri_imposter_scores[np.where(ri_genuine_scores>threshold[i])])\n",
    "    FN = len(ri_genuine_scores)-TP\n",
    "    FPR.append(FP/(FP+TN))# x\n",
    "    TPR.append(TP/(TP+FN))# y\n",
    "\n",
    "FPR"
   ]
  },
  {
   "cell_type": "code",
   "execution_count": 78,
   "metadata": {
    "collapsed": false,
    "jupyter": {
     "outputs_hidden": false
    },
    "pycharm": {
     "name": "#%%\n"
    }
   },
   "outputs": [],
   "source": [
    "#together\n",
    "# threshold=np.linspace(0,1,101)\n",
    "# FPR = []\n",
    "# TPR = []\n",
    "# for i in range(0, 101):\n",
    "#     FP = len(imposter_scores[(imposter_scores>threshold[i])])\n",
    "#     TN = len(imposter_scores)-FP\n",
    "#     TP = len(imposter_scores[np.where(genuine_scores>threshold[i])])\n",
    "#     FN = len(genuine_scores)-TP\n",
    "#     FPR.append(FP/(FP+TN))# x\n",
    "#     TPR.append(TP/(TP+FN))# y\n",
    "\n"
   ]
  },
  {
   "cell_type": "code",
   "execution_count": 19,
   "metadata": {},
   "outputs": [
    {
     "data": {
      "text/plain": "<matplotlib.legend.Legend at 0x2a48c8a5e08>"
     },
     "execution_count": 19,
     "metadata": {},
     "output_type": "execute_result"
    },
    {
     "data": {
      "text/plain": "<Figure size 432x288 with 1 Axes>",
      "image/png": "[encoded data removed]"
     },
     "metadata": {
      "needs_background": "light"
     },
     "output_type": "display_data"
    }
   ],
   "source": [
    "\"\"\"Plot FAR and FRR as a function of the decision threshold.\"\"\"\n",
    "# FAR <=> FPR\n",
    "# FRR <=> FNR <=> FN/P <=> 1-TPR\n",
    "FAR = FPR\n",
    "def transfer_to_frr(c):\n",
    "    return 1-c\n",
    "FRR = list(map(transfer_to_frr,TPR))\n",
    "#FRR = 1-TPR\n",
    "plt.plot(threshold,FAR,label='FAR')\n",
    "plt.plot(threshold,FRR,label='FAR')\n",
    "\n",
    "plt.xlabel('Threshold')\n",
    "plt.ylabel('Error rate')\n",
    "plt.title('FAR and FRR')\n",
    "plt.legend(loc=\"right\")"
   ]
  },
  {
   "cell_type": "code",
   "execution_count": 20,
   "metadata": {},
   "outputs": [
    {
     "data": {
      "text/plain": "Text(0.5, 1.0, 'ROC curve')"
     },
     "execution_count": 20,
     "metadata": {},
     "output_type": "execute_result"
    },
    {
     "data": {
      "text/plain": "<Figure size 432x288 with 1 Axes>",
      "image/png": "[encoded data removed]"
     },
     "metadata": {
      "needs_background": "light"
     },
     "output_type": "display_data"
    }
   ],
   "source": [
    "\"\"\"plot the ROC curve (TPR against the FPR for different threshold values)\"\"\"\n",
    "# x => FPR\n",
    "# y => TPR\n",
    "plt.plot(FPR,TPR)\n",
    "plt.xlabel('FPR')\n",
    "plt.ylabel('TPR')\n",
    "plt.title('ROC curve')"
   ]
  },
  {
   "cell_type": "code",
   "execution_count": 21,
   "metadata": {},
   "outputs": [
    {
     "data": {
      "text/plain": "Text(0.5, 1.0, 'DET curve')"
     },
     "execution_count": 21,
     "metadata": {},
     "output_type": "execute_result"
    },
    {
     "data": {
      "text/plain": "<Figure size 432x288 with 1 Axes>",
      "image/png": "[encoded data removed]"
     },
     "metadata": {
      "needs_background": "light"
     },
     "output_type": "display_data"
    }
   ],
   "source": [
    "\"\"\"plot the DET curve (FRR (=1-tpr) against the FAR for different threshold values)\"\"\"\n",
    "\n",
    "# FAR <=> FPR\n",
    "# FRR <=> FNR <=> FN/P <=> 1-TPR\n",
    "\n",
    "plt.plot(FAR,FRR)\n",
    "plt.xlabel('FAR')\n",
    "plt.ylabel('FRR')\n",
    "plt.title('DET curve')"
   ]
  },
  {
   "cell_type": "markdown",
   "metadata": {},
   "source": [
    "#### 3. F1 and accuracy as metrics\n",
    "\n",
    "While biometric systems are, traditionally, evaluated using FMR and FRR and ROC/DET curves, we can also have a look at traditional [classification metrics](https://scikit-learn.org/stable/modules/model_evaluation.html#classification-metrics) such as classification accuracy (or error) and F1 measure. "
   ]
  },
  {
   "cell_type": "markdown",
   "metadata": {},
   "source": [
    "<div class=\"alert alert-block alert-success\">\n",
    "<b>Q3: </b> Classification Metrics\n",
    "<ul>\n",
    "    <li>Plot F1 and accuracy as a function of the decision thresholds on the similarity score.</li>\n",
    "    <li>Calculate the threshold and accuracy for which F1 is maximal. Is it an interesting operating point?</li>\n",
    "    <li>Do the same for the classification error (accuracy). Is there a difference?</li>\n",
    "    <li>Is accuracy a good performance metric in this case?</li>\n",
    "</ul>  \n",
    "</div>\n",
    "\n",
    "<div class=\"alert alert-block alert-info\">\n",
    "<b>Tip:</b> \n",
    "We highly recommend you use the <a href=\"https://scikit-learn.org/stable/modules/model_evaluation.html#classification-metrics\">scikit-learn classification metrics</a> to assist.\n",
    "</div>\n"
   ]
  },
  {
   "cell_type": "code",
   "execution_count": 22,
   "metadata": {},
   "outputs": [
    {
     "data": {
      "text/plain": "<matplotlib.legend.Legend at 0x2a48c467c88>"
     },
     "execution_count": 22,
     "metadata": {},
     "output_type": "execute_result"
    },
    {
     "data": {
      "text/plain": "<Figure size 432x288 with 1 Axes>",
      "image/png": "[encoded data removed]"
     },
     "metadata": {
      "needs_background": "light"
     },
     "output_type": "display_data"
    }
   ],
   "source": [
    "\"\"\"Plot F1 and accuracy as a function of the decision thresholds on the similarity score.\"\"\"\n",
    "# Hint: evaluating for ± 50 threshold values should suffice\n",
    "threshold=np.linspace(0,0.15,51)\n",
    "F1 = []\n",
    "accuracy = []\n",
    "Precision = []\n",
    "Recall = []\n",
    "\n",
    "for i in range(0, 51):\n",
    "    FP = len(ri_imposter_scores[(ri_imposter_scores>threshold[i])])\n",
    "    TN = len(ri_imposter_scores)-FP\n",
    "    TP = len(ri_imposter_scores[np.where(ri_genuine_scores>threshold[i])])\n",
    "    FN = len(ri_genuine_scores)-TP\n",
    "    p=TP/(TP+FP)\n",
    "    Precision.append(p)\n",
    "    r=TP/(TP+FN)\n",
    "    Recall.append(r)\n",
    "    f=2*p*r/(p+r)\n",
    "    F1.append(f)\n",
    "    a=(TP+TN)/(TP+FP+TN+FN)\n",
    "    accuracy.append(a)\n",
    "\n",
    "plt.plot(threshold,F1,label='F1')\n",
    "plt.plot(threshold,accuracy,label='accuracy')\n",
    "\n",
    "plt.xlabel('Threshold')\n",
    "plt.ylabel('Score')\n",
    "plt.title('F1 and accuracy')\n",
    "plt.legend(loc=\"right\")\n",
    "\n",
    "\n",
    "# from sklearn.metrics import f1_score\n",
    "# y_true =\n",
    "# y_pred = [0, 2, 1, 0, 0, 1]\n",
    "# f1_score(y_true, y_pred, average='macro')\n",
    "#\n",
    "# f1_score(y_true, y_pred, average='micro')\n",
    "#\n",
    "# f1_score(y_true, y_pred, average='weighted')\n",
    "#\n",
    "# f1_score(y_true, y_pred, average=None)\n",
    "#\n",
    "# y_true = [0, 0, 0, 0, 0, 0]\n",
    "# y_pred = [0, 0, 0, 0, 0, 0]\n",
    "# f1_score(y_true, y_pred, zero_division=1)"
   ]
  },
  {
   "cell_type": "code",
   "execution_count": 23,
   "metadata": {},
   "outputs": [
    {
     "data": {
      "text/plain": "0.12"
     },
     "execution_count": 23,
     "metadata": {},
     "output_type": "execute_result"
    }
   ],
   "source": [
    "\"\"\"Calculate the threshold for which F1 is maximal.\"\"\"\n",
    "threshold[F1.index(max(F1))]"
   ]
  },
  {
   "cell_type": "code",
   "execution_count": 24,
   "metadata": {},
   "outputs": [
    {
     "data": {
      "text/plain": "0.12"
     },
     "execution_count": 24,
     "metadata": {},
     "output_type": "execute_result"
    }
   ],
   "source": [
    "\"\"\"Do the same for the classification error (or accuracy)\"\"\"\n",
    "threshold[accuracy.index(max(accuracy))]"
   ]
  },
  {
   "cell_type": "markdown",
   "metadata": {},
   "source": [
    "#### 4. AUC and EER as summary measures\n",
    "\n",
    "The overall performance (over all threshold settings) is typically expressed through:\n",
    "\n",
    "* The Area Under the Curve (AUC) (with TPR((y-axis) vs FPR (x-axis))\n",
    "\n",
    "<img src=\"img/AUC.png\" width=\"250\" height=\"auto\"/>\n",
    "\n",
    "The AUC can be used to compare different systems. The larger this number, the better.\n",
    "However, since it is a summary measure, always inspect the full ROC curve to make decisions about performance given operating conditions (in wich FRR, FAR regime to work e.g.).\n",
    "\n",
    "* The Equal Error Rate (EER), which is the point on the ROC-curve where FAR(FMR) equals FRR (1-TAR). A lower EER value indicates better performance. \n",
    "\n",
    "<img src=\"img/EER.png\" width=\"300\" height=\"300\"/>"
   ]
  },
  {
   "cell_type": "markdown",
   "metadata": {},
   "source": [
    "<div class=\"alert alert-block alert-success\">\n",
    "<b>Q4: </b> AUC, EER and alternatives\n",
    "<ul>\n",
    "    <li>Calculate ROC AUC. Is this a good metric? What does it reveal about the system? </li>\n",
    "    <li>Calculate (by approximation) the EER and plot it on the FAR-FRR curve. Is this a good peration point?</li>\n",
    "    <li>Calculate the decision threshold for which the sum of FRR and FAR is minimal. Is this point similar to the total classification error?</li> \n",
    "    <li>Can you suggest other strategies that give you an \"optimal\" performance? Calculate and discuss their (de)merits.</li>\n",
    "</ul>  \n",
    "</div>\n"
   ]
  },
  {
   "cell_type": "code",
   "execution_count": 25,
   "metadata": {},
   "outputs": [
    {
     "name": "stdout",
     "output_type": "stream",
     "text": [
      "Area under curve=0.9814799319118438\n"
     ]
    }
   ],
   "source": [
    "\"\"\"Calculate the ROC AUC.\"\"\"\n",
    "from sklearn.metrics import roc_curve, auc\n",
    "def fprtpr2roc_points(fpr,tpr):\n",
    "    roc_points = []\n",
    "    for i in range(len(fpr)):\n",
    "        roc_points.append([fpr[i],tpr[i]])\n",
    "    return roc_points\n",
    "\n",
    "roc_points = fprtpr2roc_points(FPR,TPR)\n",
    "fpr_array = []\n",
    "tpr_array = []\n",
    "for i in range(len(roc_points)-1):\n",
    "    point1 = roc_points[i];\n",
    "    point2 = roc_points[i+1]\n",
    "    tpr_array.append([point1[0], point2[0]])\n",
    "    fpr_array.append([point1[1], point2[1]])\n",
    "\n",
    "auc = sum(np.trapz(tpr_array,fpr_array))+1\n",
    "print('Area under curve={}'.format(auc))"
   ]
  },
  {
   "cell_type": "code",
   "execution_count": 26,
   "metadata": {},
   "outputs": [
    {
     "name": "stdout",
     "output_type": "stream",
     "text": [
      "0.04\n"
     ]
    },
    {
     "data": {
      "text/plain": "<Figure size 432x288 with 1 Axes>",
      "image/png": "[encoded data removed]"
     },
     "metadata": {
      "needs_background": "light"
     },
     "output_type": "display_data"
    }
   ],
   "source": [
    "\"\"\"Calculate (by approximation) the EER and plot it on the FAR-FRR curve.\"\"\"\n",
    "# hints:\n",
    "#  - avoid using a library that directly computes the EER for this assignment\n",
    "\n",
    "# x => FRR\n",
    "# y => FAR\n",
    "# EER=Threshold when FRR == FAR\n",
    "threshold=np.linspace(0,1,101)\n",
    "diff = []\n",
    "plt.plot(FRR,FAR,label='ROC curve')\n",
    "plt.plot(FAR,FAR, label='FAR = FRR line')\n",
    "\n",
    "plt.xlabel('FRR')\n",
    "plt.ylabel('FAR')\n",
    "plt.title('EER')\n",
    "plt.legend(loc=\"right\")\n",
    "equal = -1\n",
    "for i in range(0,101):\n",
    "    diff.append(abs(FRR[i]-FAR[i]))\n",
    "EER_point = threshold[diff.index(min(diff))]\n",
    "print(EER_point)"
   ]
  },
  {
   "cell_type": "code",
   "execution_count": 27,
   "metadata": {},
   "outputs": [
    {
     "name": "stdout",
     "output_type": "stream",
     "text": [
      "0.06\n"
     ]
    },
    {
     "data": {
      "text/plain": "<Figure size 432x288 with 1 Axes>",
      "image/png": "[encoded data removed]"
     },
     "metadata": {
      "needs_background": "light"
     },
     "output_type": "display_data"
    }
   ],
   "source": [
    "\"\"\"Calculate the decision threshold for which the sum of FRR and FAR is minimal.\"\"\"\n",
    "# hint: same as above\n",
    "sum_FRR_FAR = []\n",
    "for i in range(0,101):\n",
    "    sum_FRR_FAR.append(FRR[i]+FAR[i])\n",
    "plt.plot(threshold,sum_FRR_FAR,label='sum of FRR and FAR')\n",
    "plt.xlabel('threshold')\n",
    "plt.ylabel('Sum')\n",
    "plt.title('Sum of FRR and FAR')\n",
    "\n",
    "min_sum = threshold[sum_FRR_FAR.index(min(sum_FRR_FAR))]\n",
    "print(min_sum)"
   ]
  },
  {
   "cell_type": "markdown",
   "metadata": {},
   "source": [
    "#### 5. Evaluation using Precision and Recall\n",
    "\n",
    "[1]: <https://link.springer.com/book/10.1007/978-0-387-77326-1> ('Introduction to Biometrics' by AK Jain et al)\n",
    "[2]: <https://machinelearningmastery.com/roc-curves-and-precision-recall-curves-for-classification-in-python/> (How and When to Use ROC Curves and Precision-Recall Curves for Classification in Python)\n",
    "[3]: <https://en.wikipedia.org/w/index.php?title=Information_retrieval&oldid=793358396#Average_precision> (Average precision)\n",
    "\n",
    "In a general binary classification setting, one also often presents Precision-Recall curves. PR-curves are sometimes summarized using the [average precision scores][3]. How and when to use ROC or PRC is discussed [here][2]. A more general discussion of these measures is provided [here](https://towardsdatascience.com/beyond-accuracy-precision-and-recall-3da06bea9f6c).  \n",
    "\n",
    "Scikit-Learn provides routines for calculating these curves and numbers as demonstrated in the code below from this [link][2], it also provides an implementation of the [average precision scores](https://scikit-learn.org/stable/modules/generated/sklearn.metrics.average_precision_score.html#sklearn.metrics.average_precision_score).\n"
   ]
  },
  {
   "cell_type": "markdown",
   "metadata": {},
   "source": [
    "<div class=\"alert alert-block alert-success\">\n",
    "<b>Q5: </b> Precision-Recall curves and related summary measures\n",
    "<ul>\n",
    "    <li>Calculate and plot the Precision-Recall curve for this system. What does it reveal about the performance of the system?</li>\n",
    "    <li>Calculate the Area Under the PR-curve. Discuss.</li>\n",
    "    <li>Calculate the average precision scores. Discuss its value.</li> \n",
    "</ul>  \n",
    "</div>\n"
   ]
  },
  {
   "cell_type": "code",
   "execution_count": 28,
   "metadata": {},
   "outputs": [
    {
     "data": {
      "text/plain": "Text(0.5, 1.0, 'Precision-Recall curve')"
     },
     "execution_count": 28,
     "metadata": {},
     "output_type": "execute_result"
    },
    {
     "data": {
      "text/plain": "<Figure size 432x288 with 1 Axes>",
      "image/png": "[encoded data removed]"
     },
     "metadata": {
      "needs_background": "light"
     },
     "output_type": "display_data"
    }
   ],
   "source": [
    "\"\"\"Calculate and plot the Precision-Recall curve for this system\"\"\"\n",
    "# precision = TP/(TP+FP)\n",
    "# recall = TP/(TP+FN)\n",
    "\n",
    "threshold=np.linspace(0,0.15,51)\n",
    "for i in range(0,51):\n",
    "    sum_FRR_FAR.append(FRR[i]+FAR[i])\n",
    "plt.plot(Recall, Precision)\n",
    "plt.xlabel('Recall')\n",
    "plt.ylabel('Precision')\n",
    "plt.title('Precision-Recall curve')"
   ]
  },
  {
   "cell_type": "code",
   "execution_count": 29,
   "outputs": [],
   "source": [
    "#for the reason that I use np.trpz() function to calculate the pr_AUC, hence reverse needed\n",
    "Recall.reverse()\n",
    "\n",
    "Precision.reverse()"
   ],
   "metadata": {
    "collapsed": false,
    "pycharm": {
     "name": "#%%\n"
    }
   }
  },
  {
   "cell_type": "code",
   "execution_count": 30,
   "metadata": {},
   "outputs": [
    {
     "name": "stdout",
     "output_type": "stream",
     "text": [
      "Area under the PR curve=0.13918398054212433\n"
     ]
    }
   ],
   "source": [
    "\"\"\"Calculate the Area Under the PR-curve.\"\"\"\n",
    "def RecallPrecision2pr_points(Recall,Precision):\n",
    "    pr_points = []\n",
    "    for i in range(len(Recall)):\n",
    "        pr_points.append([Recall[i],Precision[i]])\n",
    "    return pr_points\n",
    "\n",
    "pr_points = RecallPrecision2pr_points(Recall,Precision)\n",
    "recall_array = []\n",
    "precision_array = []\n",
    "for i in range(len(pr_points)-1):\n",
    "    pr_point1 = pr_points[i];\n",
    "    pr_point2 = pr_points[i+1]\n",
    "    precision_array.append([pr_point1[0], pr_point2[0]])\n",
    "    recall_array.append([pr_point1[1], pr_point2[1]])\n",
    "\n",
    "pr_auc = sum(np.trapz(precision_array,recall_array))+1\n",
    "pr_auc += 1*min(Recall)\n",
    "print('Area under the PR curve={}'.format(pr_auc))"
   ]
  },
  {
   "cell_type": "code",
   "execution_count": 31,
   "metadata": {},
   "outputs": [
    {
     "name": "stdout",
     "output_type": "stream",
     "text": [
      "The average precision scores=0.525222568083488\n"
     ]
    }
   ],
   "source": [
    "\"\"\"Calculate the average precision scores\"\"\"\n",
    "aver_precision = pr_auc/1\n",
    "print('The average precision scores={}'.format(aver_precision))"
   ]
  },
  {
   "cell_type": "markdown",
   "metadata": {},
   "source": [
    "## III. Validation of identification system "
   ]
  },
  {
   "cell_type": "markdown",
   "metadata": {},
   "source": [
    "### Evaluation using CMC curves\n",
    "In an identification scenario one has a 1-to-many or multi-class classification problem. The performance of such a system is typically measured by the Cumulative Match Characteristic (CMC) curve. This curve plots the experimental probability that a correct identification is returned within the top-x (x=1, ..., N) ranked matching scores. \n",
    "\n",
    "<img src=\"img/CMC.jpg\" width=\"500\" height=\"auto\"/>\n",
    "\n",
    "[Bolle et al.](https://ieeexplore.ieee.org/document/1544394) show that:\n",
    "> the CMC is also related to the FAR and FRR of a 1:1 matcher, i.e., the matcher that is used to rank the candidates by sorting the scores. This has as a consequence that when a 1:1 matcher is used for identification, that is, for sorting match scores from high to low, the CMC does not offer any additional information beyond the FAR and FRR curves. The CMC is just another way of displaying the data and can be computed from the FAR and FRR.\n",
    "\n",
    "This paper is not mandatory but those interested can have a look at it.\n",
    "\n",
    "CMC curves can easily be generated once you have the ranked matching scores for every test sample. In our example we can easily calculate it from the similarity matrix (note that in this very particular case we have only one genuine pair per test sample). \n",
    "\n"
   ]
  },
  {
   "cell_type": "markdown",
   "metadata": {},
   "source": [
    "<div class=\"alert alert-block alert-success\">\n",
    "<b>Q6: </b> CMC curves\n",
    "<ul>\n",
    "    <li>Calculate the Cumulative Matching Characteristic curve (implement this yourself)</li>\n",
    "    <li>Compute the Rank-1 Recognition Rate.</li>\n",
    "</ul>  \n",
    "</div>\n"
   ]
  },
  {
   "cell_type": "code",
   "execution_count": 32,
   "metadata": {},
   "outputs": [
    {
     "data": {
      "text/plain": "<Figure size 432x288 with 1 Axes>",
      "image/png": "[encoded data removed]"
     },
     "metadata": {
      "needs_background": "light"
     },
     "output_type": "display_data"
    }
   ],
   "source": [
    "\"\"\"Calculate the Cumulative Matching Characteristic curve.\"\"\"\n",
    "# Hint: don't use a library\n",
    "\n",
    "# use .values to access as numpy array\n",
    "np_similarity_matrix = ri_similarity_matrix.values\n",
    "\n",
    "# grab elements on the diagonal\n",
    "genuine_scores_no_normal = np.diag(np_similarity_matrix)\n",
    "rank = []\n",
    "rate_array = []\n",
    "for i in range(0,len(genuine_scores_no_normal)):\n",
    "    rank_max=np.argmax(np_similarity_matrix[i])\n",
    "    rank.append(rank_max)\n",
    "    rate=abs(rank_max-i)\n",
    "    rate_array.append(rate)\n",
    "plt.ylabel('Recognition Rate')\n",
    "plt.xlabel('Rank')\n",
    "plt.title('CMC curve')\n",
    "cmc_p=plt.hist(rate_array,bins=1000, density=1, cumulative=1)"
   ]
  },
  {
   "cell_type": "code",
   "execution_count": 33,
   "metadata": {},
   "outputs": [
    {
     "name": "stdout",
     "output_type": "stream",
     "text": [
      "Rank-1 Recognition Rate = 0.89\n"
     ]
    }
   ],
   "source": [
    "\"\"\"compute the Rank-1 Recognition Rate.\"\"\"\n",
    "import statsmodels.api as sm\n",
    "ecdf = sm.distributions.ECDF(rate_array)\n",
    "rank_1 = ecdf(1)\n",
    "print('Rank-1 Recognition Rate = {}'.format(rank_1))"
   ]
  },
  {
   "cell_type": "markdown",
   "metadata": {},
   "source": [
    "<div class=\"alert alert-block alert-success\">\n",
    "<b>Q7: </b> Evaluate different biometric systems\n",
    "<ul>\n",
    "    <li>Use above evaluation techniques to compare the biometric system based on the left index to the right index </li>\n",
    "    <li>Do you see any differences in any of the curves or measures?</li>\n",
    "</ul>  \n",
    "</div>"
   ]
  },
  {
   "cell_type": "markdown",
   "metadata": {},
   "source": [
    "## IV. Assignment Instructions\n",
    "For this assignment you have to submit a report (.pdf) and the implementation of this notebook (.ipynb) to toledo. The report should be between 3-8 pages (more pages $\\nRightarrow$ higher score) and should be structured around the posed questions (Q1,...). The text should demonstrate your understanding of the material and, depending on the question, clearly introduce the context, technique, your expectation and interpretation of the results. Do not limit yourselves to just answering the questions. Feel free to add figures and, if needed, some *small* code snippet to clarify your position. **The report should be self contained, the notebook functions as supplementary material only!**\n",
    "\n",
    "*Note: Make sure you include all the files required to run the notebooks on submission.* <br>\n",
    "*Note 2: The deadline for this project is: 09/03 23:59 CET.* "
   ]
  },
  {
   "cell_type": "code",
   "execution_count": null,
   "metadata": {
    "collapsed": true,
    "jupyter": {
     "outputs_hidden": true
    }
   },
   "outputs": [],
   "source": []
  }
 ],
 "metadata": {
  "kernelspec": {
   "display_name": "PyCharm (pythonProject2)",
   "language": "python",
   "name": "pycharm-3d24d1ab"
  },
  "language_info": {
   "codemirror_mode": {
    "name": "ipython",
    "version": 3
   },
   "file_extension": ".py",
   "mimetype": "text/x-python",
   "name": "python",
   "nbconvert_exporter": "python",
   "pygments_lexer": "ipython3",
   "version": "3.7.9"
  }
 },
 "nbformat": 4,
 "nbformat_minor": 4
}